{
 "cells": [
  {
   "cell_type": "markdown",
   "source": [
    "# Final Project: Tweet Sentiment Analysis"
   ],
   "metadata": {
    "collapsed": false
   }
  },
  {
   "cell_type": "markdown",
   "source": [
    "## Part 1: Loading and Preprocessing Data"
   ],
   "metadata": {
    "collapsed": false
   }
  },
  {
   "cell_type": "code",
   "execution_count": 37,
   "metadata": {
    "collapsed": true
   },
   "outputs": [
    {
     "name": "stdout",
     "output_type": "stream",
     "text": [
      "Index(['sentiment', 'id', 'time', 'flag', 'user', 'tweet'], dtype='object')\n"
     ]
    },
    {
     "data": {
      "text/plain": "   sentiment          id                          time      flag  \\\n0          0  1467810369  Mon Apr 06 22:19:45 PDT 2009  NO_QUERY   \n1          0  1467810672  Mon Apr 06 22:19:49 PDT 2009  NO_QUERY   \n2          0  1467810917  Mon Apr 06 22:19:53 PDT 2009  NO_QUERY   \n3          0  1467811184  Mon Apr 06 22:19:57 PDT 2009  NO_QUERY   \n4          0  1467811193  Mon Apr 06 22:19:57 PDT 2009  NO_QUERY   \n\n              user                                              tweet  \n0  _TheSpecialOne_  @switchfoot http://twitpic.com/2y1zl - Awww, t...  \n1    scotthamilton  is upset that he can't update his Facebook by ...  \n2         mattycus  @Kenichan I dived many times for the ball. Man...  \n3          ElleCTF    my whole body feels itchy and like its on fire   \n4           Karoli  @nationwideclass no, it's not behaving at all....  ",
      "text/html": "<div>\n<style scoped>\n    .dataframe tbody tr th:only-of-type {\n        vertical-align: middle;\n    }\n\n    .dataframe tbody tr th {\n        vertical-align: top;\n    }\n\n    .dataframe thead th {\n        text-align: right;\n    }\n</style>\n<table border=\"1\" class=\"dataframe\">\n  <thead>\n    <tr style=\"text-align: right;\">\n      <th></th>\n      <th>sentiment</th>\n      <th>id</th>\n      <th>time</th>\n      <th>flag</th>\n      <th>user</th>\n      <th>tweet</th>\n    </tr>\n  </thead>\n  <tbody>\n    <tr>\n      <th>0</th>\n      <td>0</td>\n      <td>1467810369</td>\n      <td>Mon Apr 06 22:19:45 PDT 2009</td>\n      <td>NO_QUERY</td>\n      <td>_TheSpecialOne_</td>\n      <td>@switchfoot http://twitpic.com/2y1zl - Awww, t...</td>\n    </tr>\n    <tr>\n      <th>1</th>\n      <td>0</td>\n      <td>1467810672</td>\n      <td>Mon Apr 06 22:19:49 PDT 2009</td>\n      <td>NO_QUERY</td>\n      <td>scotthamilton</td>\n      <td>is upset that he can't update his Facebook by ...</td>\n    </tr>\n    <tr>\n      <th>2</th>\n      <td>0</td>\n      <td>1467810917</td>\n      <td>Mon Apr 06 22:19:53 PDT 2009</td>\n      <td>NO_QUERY</td>\n      <td>mattycus</td>\n      <td>@Kenichan I dived many times for the ball. Man...</td>\n    </tr>\n    <tr>\n      <th>3</th>\n      <td>0</td>\n      <td>1467811184</td>\n      <td>Mon Apr 06 22:19:57 PDT 2009</td>\n      <td>NO_QUERY</td>\n      <td>ElleCTF</td>\n      <td>my whole body feels itchy and like its on fire</td>\n    </tr>\n    <tr>\n      <th>4</th>\n      <td>0</td>\n      <td>1467811193</td>\n      <td>Mon Apr 06 22:19:57 PDT 2009</td>\n      <td>NO_QUERY</td>\n      <td>Karoli</td>\n      <td>@nationwideclass no, it's not behaving at all....</td>\n    </tr>\n  </tbody>\n</table>\n</div>"
     },
     "metadata": {},
     "output_type": "display_data"
    }
   ],
   "source": [
    "import warnings\n",
    "import pandas as pd\n",
    "\n",
    "warnings.filterwarnings(\"ignore\")\n",
    "\n",
    "tweets_df = pd.read_csv(\"training.1600000.processed.noemoticon.csv\", names= ['sentiment', 'id', 'time', 'flag', 'user', 'tweet'])\n",
    "print(tweets_df.columns)\n",
    "display(tweets_df.head())"
   ]
  },
  {
   "cell_type": "code",
   "execution_count": 38,
   "outputs": [
    {
     "name": "stdout",
     "output_type": "stream",
     "text": [
      "The dataset consists of 2 features & 1600000 samples.\n",
      "\n",
      "The dataset has 0 missing values.\n",
      "\n"
     ]
    },
    {
     "data": {
      "text/plain": "                                               tweet sentiment\n0  @switchfoot http://twitpic.com/2y1zl - Awww, t...       NEG\n1  is upset that he can't update his Facebook by ...       NEG\n2  @Kenichan I dived many times for the ball. Man...       NEG\n3    my whole body feels itchy and like its on fire        NEG\n4  @nationwideclass no, it's not behaving at all....       NEG",
      "text/html": "<div>\n<style scoped>\n    .dataframe tbody tr th:only-of-type {\n        vertical-align: middle;\n    }\n\n    .dataframe tbody tr th {\n        vertical-align: top;\n    }\n\n    .dataframe thead th {\n        text-align: right;\n    }\n</style>\n<table border=\"1\" class=\"dataframe\">\n  <thead>\n    <tr style=\"text-align: right;\">\n      <th></th>\n      <th>tweet</th>\n      <th>sentiment</th>\n    </tr>\n  </thead>\n  <tbody>\n    <tr>\n      <th>0</th>\n      <td>@switchfoot http://twitpic.com/2y1zl - Awww, t...</td>\n      <td>NEG</td>\n    </tr>\n    <tr>\n      <th>1</th>\n      <td>is upset that he can't update his Facebook by ...</td>\n      <td>NEG</td>\n    </tr>\n    <tr>\n      <th>2</th>\n      <td>@Kenichan I dived many times for the ball. Man...</td>\n      <td>NEG</td>\n    </tr>\n    <tr>\n      <th>3</th>\n      <td>my whole body feels itchy and like its on fire</td>\n      <td>NEG</td>\n    </tr>\n    <tr>\n      <th>4</th>\n      <td>@nationwideclass no, it's not behaving at all....</td>\n      <td>NEG</td>\n    </tr>\n  </tbody>\n</table>\n</div>"
     },
     "metadata": {},
     "output_type": "display_data"
    }
   ],
   "source": [
    "tweets_df = tweets_df[['tweet', 'sentiment']]\n",
    "MAP = {0: \"NEG\", 4: \"POS\"}\n",
    "tweets_df[\"sentiment\"] = tweets_df.sentiment.map(MAP)\n",
    "\n",
    "print('The dataset consists of {} features & {} samples.'.format(tweets_df.shape[1], tweets_df.shape[0]))\n",
    "print('\\nThe dataset has {} missing values.\\n'.format(tweets_df.isnull().any(axis = 1).sum()))\n",
    "display(tweets_df.head())"
   ],
   "metadata": {
    "collapsed": false,
    "pycharm": {
     "name": "#%%\n"
    }
   }
  },
  {
   "cell_type": "code",
   "execution_count": 39,
   "outputs": [
    {
     "name": "stderr",
     "output_type": "stream",
     "text": [
      "100%|██████████| 1600000/1600000 [04:34<00:00, 5836.92it/s]\n"
     ]
    },
    {
     "data": {
      "text/plain": "                                               tweet sentiment  \\\n0  @switchfoot http://twitpic.com/2y1zl - Awww, t...       NEG   \n1  is upset that he can't update his Facebook by ...       NEG   \n2  @Kenichan I dived many times for the ball. Man...       NEG   \n3    my whole body feels itchy and like its on fire        NEG   \n4  @nationwideclass no, it's not behaving at all....       NEG   \n\n                                     tokenized_tweet  \n0  [switchfoot, http, twitpic, com, zl, awww, tha...  \n1  [is, upset, that, he, can, update, his, facebo...  \n2  [kenichan, dived, many, times, for, the, ball,...  \n3  [my, whole, body, feels, itchy, and, like, its...  \n4  [nationwideclass, no, it, not, behaving, at, a...  ",
      "text/html": "<div>\n<style scoped>\n    .dataframe tbody tr th:only-of-type {\n        vertical-align: middle;\n    }\n\n    .dataframe tbody tr th {\n        vertical-align: top;\n    }\n\n    .dataframe thead th {\n        text-align: right;\n    }\n</style>\n<table border=\"1\" class=\"dataframe\">\n  <thead>\n    <tr style=\"text-align: right;\">\n      <th></th>\n      <th>tweet</th>\n      <th>sentiment</th>\n      <th>tokenized_tweet</th>\n    </tr>\n  </thead>\n  <tbody>\n    <tr>\n      <th>0</th>\n      <td>@switchfoot http://twitpic.com/2y1zl - Awww, t...</td>\n      <td>NEG</td>\n      <td>[switchfoot, http, twitpic, com, zl, awww, tha...</td>\n    </tr>\n    <tr>\n      <th>1</th>\n      <td>is upset that he can't update his Facebook by ...</td>\n      <td>NEG</td>\n      <td>[is, upset, that, he, can, update, his, facebo...</td>\n    </tr>\n    <tr>\n      <th>2</th>\n      <td>@Kenichan I dived many times for the ball. Man...</td>\n      <td>NEG</td>\n      <td>[kenichan, dived, many, times, for, the, ball,...</td>\n    </tr>\n    <tr>\n      <th>3</th>\n      <td>my whole body feels itchy and like its on fire</td>\n      <td>NEG</td>\n      <td>[my, whole, body, feels, itchy, and, like, its...</td>\n    </tr>\n    <tr>\n      <th>4</th>\n      <td>@nationwideclass no, it's not behaving at all....</td>\n      <td>NEG</td>\n      <td>[nationwideclass, no, it, not, behaving, at, a...</td>\n    </tr>\n  </tbody>\n</table>\n</div>"
     },
     "metadata": {},
     "output_type": "display_data"
    }
   ],
   "source": [
    "from tqdm import tqdm\n",
    "from gensim.utils import simple_preprocess\n",
    "\n",
    "tweets_df['tokenized_tweet'] = tweets_df['tweet']\n",
    "for index, tweet in enumerate(tqdm(tweets_df.iterrows(), total= 1600000)):\n",
    "    tweets_df.at[index, 'tokenized_tweet'] = simple_preprocess(tweets_df.at[index, 'tweet'], deacc= True)\n",
    "\n",
    "display(tweets_df.head())"
   ],
   "metadata": {
    "collapsed": false,
    "pycharm": {
     "name": "#%%\n"
    }
   }
  },
  {
   "cell_type": "code",
   "execution_count": 40,
   "outputs": [
    {
     "name": "stderr",
     "output_type": "stream",
     "text": [
      "100%|██████████| 1600000/1600000 [07:47<00:00, 3424.80it/s]\n"
     ]
    },
    {
     "data": {
      "text/plain": "                                               tweet sentiment  \\\n0  @switchfoot http://twitpic.com/2y1zl - Awww, t...       NEG   \n1  is upset that he can't update his Facebook by ...       NEG   \n2  @Kenichan I dived many times for the ball. Man...       NEG   \n3    my whole body feels itchy and like its on fire        NEG   \n4  @nationwideclass no, it's not behaving at all....       NEG   \n\n                                     tokenized_tweet  \\\n0  [switchfoot, http, twitpic, com, zl, awww, tha...   \n1  [is, upset, that, he, can, update, his, facebo...   \n2  [kenichan, dived, many, times, for, the, ball,...   \n3  [my, whole, body, feels, itchy, and, like, its...   \n4  [nationwideclass, no, it, not, behaving, at, a...   \n\n                                      stemmed_tokens  \n0  [switchfoot, http, twitpic, com, zl, awww, tha...  \n1  [is, upset, that, he, can, updat, his, faceboo...  \n2  [kenichan, dive, mani, time, for, the, ball, m...  \n3  [my, whole, bodi, feel, itchi, and, like, it, ...  \n4  [nationwideclass, no, it, not, behav, at, all,...  ",
      "text/html": "<div>\n<style scoped>\n    .dataframe tbody tr th:only-of-type {\n        vertical-align: middle;\n    }\n\n    .dataframe tbody tr th {\n        vertical-align: top;\n    }\n\n    .dataframe thead th {\n        text-align: right;\n    }\n</style>\n<table border=\"1\" class=\"dataframe\">\n  <thead>\n    <tr style=\"text-align: right;\">\n      <th></th>\n      <th>tweet</th>\n      <th>sentiment</th>\n      <th>tokenized_tweet</th>\n      <th>stemmed_tokens</th>\n    </tr>\n  </thead>\n  <tbody>\n    <tr>\n      <th>0</th>\n      <td>@switchfoot http://twitpic.com/2y1zl - Awww, t...</td>\n      <td>NEG</td>\n      <td>[switchfoot, http, twitpic, com, zl, awww, tha...</td>\n      <td>[switchfoot, http, twitpic, com, zl, awww, tha...</td>\n    </tr>\n    <tr>\n      <th>1</th>\n      <td>is upset that he can't update his Facebook by ...</td>\n      <td>NEG</td>\n      <td>[is, upset, that, he, can, update, his, facebo...</td>\n      <td>[is, upset, that, he, can, updat, his, faceboo...</td>\n    </tr>\n    <tr>\n      <th>2</th>\n      <td>@Kenichan I dived many times for the ball. Man...</td>\n      <td>NEG</td>\n      <td>[kenichan, dived, many, times, for, the, ball,...</td>\n      <td>[kenichan, dive, mani, time, for, the, ball, m...</td>\n    </tr>\n    <tr>\n      <th>3</th>\n      <td>my whole body feels itchy and like its on fire</td>\n      <td>NEG</td>\n      <td>[my, whole, body, feels, itchy, and, like, its...</td>\n      <td>[my, whole, bodi, feel, itchi, and, like, it, ...</td>\n    </tr>\n    <tr>\n      <th>4</th>\n      <td>@nationwideclass no, it's not behaving at all....</td>\n      <td>NEG</td>\n      <td>[nationwideclass, no, it, not, behaving, at, a...</td>\n      <td>[nationwideclass, no, it, not, behav, at, all,...</td>\n    </tr>\n  </tbody>\n</table>\n</div>"
     },
     "metadata": {},
     "output_type": "display_data"
    }
   ],
   "source": [
    "from nltk.stem import SnowballStemmer\n",
    "\n",
    "tweets_df['stemmed_tokens'] = tweets_df['tokenized_tweet']\n",
    "for index, tweet in enumerate(tqdm(tweets_df.iterrows(), total= 1600000)):\n",
    "    tweets_df.at[index, 'stemmed_tokens'] = [SnowballStemmer(\"english\").stem(word) for word in tweets_df.at[index, 'tokenized_tweet']]\n",
    "\n",
    "display(tweets_df.head())"
   ],
   "metadata": {
    "collapsed": false,
    "pycharm": {
     "name": "#%%\n"
    }
   }
  },
  {
   "cell_type": "markdown",
   "source": [
    "## Part 2: Exploratory Data Analysis"
   ],
   "metadata": {
    "collapsed": false,
    "pycharm": {
     "name": "#%% md\n"
    }
   }
  },
  {
   "cell_type": "code",
   "execution_count": 123,
   "outputs": [
    {
     "data": {
      "text/plain": "<Figure size 432x288 with 1 Axes>",
      "image/png": "[encoded data removed]"
     },
     "metadata": {},
     "output_type": "display_data"
    }
   ],
   "source": [
    "import matplotlib.pyplot as plt\n",
    "import seaborn as sns\n",
    "\n",
    "proportions = tweets_df['sentiment'].value_counts()\n",
    "colors = sns.color_palette('pastel')[0:2]\n",
    "plt.pie(proportions, labels= ['Positive', 'Negative'], colors= colors, autopct='%.0f%%')\n",
    "plt.show()"
   ],
   "metadata": {
    "collapsed": false,
    "pycharm": {
     "name": "#%%\n"
    }
   }
  },
  {
   "cell_type": "markdown",
   "source": [
    "## Part 3: Training and Using the Word2Vec Model"
   ],
   "metadata": {
    "collapsed": false
   }
  },
  {
   "cell_type": "code",
   "execution_count": 42,
   "outputs": [
    {
     "name": "stdout",
     "output_type": "stream",
     "text": [
      "Using pre-existing model: ./models/word2vec_600.model\n"
     ]
    }
   ],
   "source": [
    "import multiprocessing\n",
    "from gensim.models import Word2Vec\n",
    "from os.path import exists\n",
    "import time\n",
    "\n",
    "size = 600\n",
    "window = 3\n",
    "min_count = 1\n",
    "workers = multiprocessing.cpu_count()\n",
    "sg = 1\n",
    "\n",
    "word2vec_model_file = './models/' + 'word2vec_' + str(size) + '.model'\n",
    "\n",
    "if not exists(word2vec_model_file):\n",
    "    print(\"Model not found, a new model will be trained.\")\n",
    "    start_time = time.time()\n",
    "    stemmed_tokens = pd.Series(tweets_df['stemmed_tokens']).values\n",
    "\n",
    "    w2v_model = Word2Vec(stemmed_tokens, min_count= min_count, size= size, workers= workers, window= window, sg= s)\n",
    "    print(\"Time taken to train word2vec model: \" + str(time.time() - start_time) + \"seconds\")\n",
    "    w2v_model.save(word2vec_model_file)\n",
    "else:\n",
    "    print(\"Using pre-existing model: {}\".format(word2vec_model_file))"
   ],
   "metadata": {
    "collapsed": false,
    "pycharm": {
     "name": "#%%\n"
    }
   }
  },
  {
   "cell_type": "code",
   "execution_count": 43,
   "outputs": [
    {
     "data": {
      "text/plain": "     index                                     stemmed_tokens\n0   732210  [finish, watch, monster, vs, alien, avg, movi,...\n1  1125598  [nesquicus, yes, inde, it, was, wooot, subo, w...\n2  1014391  [happi, to, see, lot, of, new, familiar, face,...\n3  1131784  [http, tinyurl, com, ry, wap, hi, am, look, fo...\n4   580034  [wanna, have, bubbl, bath, but, that, hard, to...",
      "text/html": "<div>\n<style scoped>\n    .dataframe tbody tr th:only-of-type {\n        vertical-align: middle;\n    }\n\n    .dataframe tbody tr th {\n        vertical-align: top;\n    }\n\n    .dataframe thead th {\n        text-align: right;\n    }\n</style>\n<table border=\"1\" class=\"dataframe\">\n  <thead>\n    <tr style=\"text-align: right;\">\n      <th></th>\n      <th>index</th>\n      <th>stemmed_tokens</th>\n    </tr>\n  </thead>\n  <tbody>\n    <tr>\n      <th>0</th>\n      <td>732210</td>\n      <td>[finish, watch, monster, vs, alien, avg, movi,...</td>\n    </tr>\n    <tr>\n      <th>1</th>\n      <td>1125598</td>\n      <td>[nesquicus, yes, inde, it, was, wooot, subo, w...</td>\n    </tr>\n    <tr>\n      <th>2</th>\n      <td>1014391</td>\n      <td>[happi, to, see, lot, of, new, familiar, face,...</td>\n    </tr>\n    <tr>\n      <th>3</th>\n      <td>1131784</td>\n      <td>[http, tinyurl, com, ry, wap, hi, am, look, fo...</td>\n    </tr>\n    <tr>\n      <th>4</th>\n      <td>580034</td>\n      <td>[wanna, have, bubbl, bath, but, that, hard, to...</td>\n    </tr>\n  </tbody>\n</table>\n</div>"
     },
     "metadata": {},
     "output_type": "display_data"
    }
   ],
   "source": [
    "from sklearn.model_selection import train_test_split\n",
    "\n",
    "X_train, X_test, Y_train, Y_test = train_test_split(tweets_df['stemmed_tokens'], tweets_df['sentiment'], test_size= .3, random_state= 420)\n",
    "\n",
    "X_train = X_train.reset_index()\n",
    "X_test = X_test.reset_index()\n",
    "Y_train = Y_train.to_frame()\n",
    "Y_train = Y_train.reset_index()\n",
    "Y_test = Y_test.to_frame()\n",
    "Y_test = Y_test.reset_index()\n",
    "\n",
    "display(X_train.head())"
   ],
   "metadata": {
    "collapsed": false,
    "pycharm": {
     "name": "#%%\n"
    }
   }
  },
  {
   "cell_type": "code",
   "execution_count": 44,
   "outputs": [
    {
     "name": "stdout",
     "output_type": "stream",
     "text": [
      "Existing embeddings found\n"
     ]
    }
   ],
   "source": [
    "import numpy as np\n",
    "\n",
    "sg_w2v_model = Word2Vec.load(word2vec_model_file)\n",
    "\n",
    "word2vec_filename = './models/' + 'train_review_word2vec.csv'\n",
    "\n",
    "if not exists(word2vec_filename):\n",
    "    print(\"No embeddings found, new embeddings will be created\")\n",
    "    with open(word2vec_filename, 'w+') as word2vec_file:\n",
    "        for index, row in tqdm(X_train.iterrows(), total= int(0.7 * 1600000)):\n",
    "            model_vector = (np.mean([sg_w2v_model[token] for token in row['stemmed_tokens']], axis= 0)).tolist()\n",
    "            if index == 0:\n",
    "                header = \",\".join(str(ele) for ele in range(600))\n",
    "                word2vec_file.write(header)\n",
    "                word2vec_file.write(\"\\n\")\n",
    "            if type(model_vector) is list:\n",
    "                line1 = \",\".join( [str(vector_element) for vector_element in model_vector] )\n",
    "            else:\n",
    "                line1 = \",\".join([str(0) for i in range(600)])\n",
    "\n",
    "            word2vec_file.write(line1)\n",
    "            word2vec_file.write('\\n')\n",
    "else:\n",
    "    print(\"Existing embeddings found\")"
   ],
   "metadata": {
    "collapsed": false,
    "pycharm": {
     "name": "#%%\n"
    }
   }
  },
  {
   "cell_type": "code",
   "execution_count": 45,
   "outputs": [
    {
     "name": "stdout",
     "output_type": "stream",
     "text": [
      "Existing embeddings found\n"
     ]
    }
   ],
   "source": [
    "word2vec_filename = './models/' + 'test_review_word2vec.csv'\n",
    "\n",
    "if not exists(word2vec_filename):\n",
    "    print(\"No embeddings found, new embeddings will be created\")\n",
    "    with open(word2vec_filename, 'w+') as word2vec_file:\n",
    "        for index, row in tqdm(X_test.iterrows(), total= int(0.3 * 1600000)):\n",
    "            model_vector = (np.mean([sg_w2v_model[token] for token in row['stemmed_tokens']], axis= 0)).tolist()\n",
    "            if index == 0:\n",
    "                header = \",\".join(str(ele) for ele in range(600))\n",
    "                word2vec_file.write(header)\n",
    "                word2vec_file.write(\"\\n\")\n",
    "            if type(model_vector) is list:\n",
    "                line1 = \",\".join( [str(vector_element) for vector_element in model_vector] )\n",
    "            else:\n",
    "                line1 = \",\".join([str(0) for i in range(600)])\n",
    "\n",
    "            word2vec_file.write(line1)\n",
    "            word2vec_file.write('\\n')\n",
    "else:\n",
    "    print(\"Existing embeddings found\")"
   ],
   "metadata": {
    "collapsed": false,
    "pycharm": {
     "name": "#%%\n"
    }
   }
  },
  {
   "cell_type": "markdown",
   "source": [
    "## Part 4: Training a Stochastic Gradient Descent Linear Classifier (Word2Vec)"
   ],
   "metadata": {
    "collapsed": false
   }
  },
  {
   "cell_type": "code",
   "execution_count": 46,
   "outputs": [
    {
     "name": "stderr",
     "output_type": "stream",
     "text": [
      "100%|██████████| 56/56 [02:36<00:00,  2.79s/it]\n"
     ]
    }
   ],
   "source": [
    "from sklearn.linear_model import SGDClassifier\n",
    "\n",
    "chunk_size = 20000\n",
    "Y_train = Y_train[['sentiment']]\n",
    "Y_list = np.array_split(Y_train, 56, axis= 0)\n",
    "\n",
    "i = 0\n",
    "clf = SGDClassifier(alpha= .0001, loss= 'log', penalty= 'l2', n_jobs= workers, shuffle= True)\n",
    "for train_df in tqdm(pd.read_csv(\"models/train_review_word2vec.csv\", chunksize= chunk_size, iterator= True), total= 56):\n",
    "    X = train_df\n",
    "    Y = Y_list[i]\n",
    "    clf.partial_fit(X, Y.values.ravel(), classes= ['NEG', 'POS'])\n",
    "    i += 1"
   ],
   "metadata": {
    "collapsed": false,
    "pycharm": {
     "name": "#%%\n"
    }
   }
  },
  {
   "cell_type": "code",
   "execution_count": 47,
   "outputs": [
    {
     "name": "stdout",
     "output_type": "stream",
     "text": [
      "              precision    recall  f1-score   support\n",
      "\n",
      "         NEG    0.80167   0.69162   0.74259    239413\n",
      "         POS    0.73001   0.82973   0.77668    240587\n",
      "\n",
      "    accuracy                        0.76084    480000\n",
      "   macro avg    0.76584   0.76067   0.75963    480000\n",
      "weighted avg    0.76575   0.76084   0.75968    480000\n",
      "\n"
     ]
    }
   ],
   "source": [
    "from sklearn.metrics import classification_report\n",
    "\n",
    "Y_test = Y_test[['sentiment']]\n",
    "test_df = pd.read_csv('models/test_review_word2vec.csv')\n",
    "Y_pred = clf.predict(test_df)\n",
    "print(classification_report(Y_test,Y_pred, digits= 5))"
   ],
   "metadata": {
    "collapsed": false,
    "pycharm": {
     "name": "#%%\n"
    }
   }
  },
  {
   "cell_type": "code",
   "execution_count": 48,
   "outputs": [
    {
     "data": {
      "text/plain": "<Figure size 432x288 with 2 Axes>",
      "image/png": "[encoded data removed]"
     },
     "metadata": {
      "needs_background": "light"
     },
     "output_type": "display_data"
    }
   ],
   "source": [
    "from sklearn.metrics import confusion_matrix\n",
    "\n",
    "cm_knn = confusion_matrix(Y_test,Y_pred)\n",
    "sns.heatmap(cm_knn, annot= True, annot_kws = {'size': 20}, square= True, fmt=\".0f\")\n",
    "\n",
    "plt.xlabel(\"Prediction\")\n",
    "plt.ylabel(\"Actual\")\n",
    "plt.show()"
   ],
   "metadata": {
    "collapsed": false,
    "pycharm": {
     "name": "#%%\n"
    }
   }
  },
  {
   "cell_type": "markdown",
   "source": [
    "## Part 6: Playing around"
   ],
   "metadata": {
    "collapsed": false,
    "pycharm": {
     "name": "#%% md\n"
    }
   }
  },
  {
   "cell_type": "code",
   "execution_count": 116,
   "outputs": [
    {
     "name": "stdout",
     "output_type": "stream",
     "text": [
      "{'label': array(['POS'], dtype='<U3'), 'elapsed_time': 0.005550861358642578}\n"
     ]
    }
   ],
   "source": [
    "def predict(text):\n",
    "    start_at = time.time()\n",
    "    x_test = [SnowballStemmer('english').stem(word) for word in simple_preprocess(text, deacc= True)]\n",
    "    x_test = (np.mean([sg_w2v_model[token] for token in x_test if token in sg_w2v_model.wv.vocab], axis= 0)).tolist()\n",
    "    label = clf.predict([x_test])\n",
    "\n",
    "    return {\"label\": label, \"elapsed_time\": time.time()-start_at}\n",
    "\n",
    "print(predict(\"I hope you have a shit day\"))"
   ],
   "metadata": {
    "collapsed": false,
    "pycharm": {
     "name": "#%%\n"
    }
   }
  },
  {
   "cell_type": "code",
   "execution_count": 49,
   "outputs": [],
   "source": [],
   "metadata": {
    "collapsed": false,
    "pycharm": {
     "name": "#%%\n"
    }
   }
  }
 ],
 "metadata": {
  "kernelspec": {
   "display_name": "Python 3",
   "language": "python",
   "name": "python3"
  },
  "language_info": {
   "codemirror_mode": {
    "name": "ipython",
    "version": 2
   },
   "file_extension": ".py",
   "mimetype": "text/x-python",
   "name": "python",
   "nbconvert_exporter": "python",
   "pygments_lexer": "ipython2",
   "version": "2.7.6"
  }
 },
 "nbformat": 4,
 "nbformat_minor": 0
}